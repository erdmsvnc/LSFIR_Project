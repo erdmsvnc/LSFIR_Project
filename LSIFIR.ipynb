{
 "cells": [
  {
   "cell_type": "code",
   "execution_count": 33,
   "metadata": {},
   "outputs": [],
   "source": [
    "import numpy as np # linear algebra\n",
    "import pandas as pd # data processing, CSV file I/O (e.g. pd.read_csv)\n",
    "import matplotlib.pyplot as plt\n",
    "import seaborn as sns\n",
    "import os\n",
    "import torch\n",
    "import torch.nn as nn\n",
    "import torch.nn.functional as F\n",
    "import torch.utils.data\n",
    "import torch.optim as optim\n",
    "from PIL import Image\n",
    "import time"
   ]
  },
  {
   "cell_type": "markdown",
   "metadata": {},
   "source": [
    "# READ IMAGES"
   ]
  },
  {
   "cell_type": "code",
   "execution_count": 34,
   "metadata": {},
   "outputs": [],
   "source": [
    "def read_images(path, numberofImage):\n",
    "    array = np.zeros([numberofImage, 64*32])\n",
    "    i = 0\n",
    "    for img in os.listdir(path):\n",
    "        img_path = path + \"/\" + img\n",
    "        img = Image.open(img_path, mode = \"r\")\n",
    "        data = np.asarray(img, dtype = \"uint8\")\n",
    "        data = data.flatten()\n",
    "        array[i,:] = data\n",
    "        i += 1\n",
    "    return array"
   ]
  },
  {
   "cell_type": "markdown",
   "metadata": {},
   "source": [
    "# READ DATA"
   ]
  },
  {
   "cell_type": "code",
   "execution_count": 35,
   "metadata": {},
   "outputs": [
    {
     "name": "stdout",
     "output_type": "stream",
     "text": [
      "Size of x_Train_neg_Tensor:  torch.Size([42000, 2048])\n",
      "Size of y_Train_neg_Tensor:  torch.Size([42000])\n",
      "Size of x_Train_pos_Tensor:  torch.Size([10000, 2048])\n",
      "Size of y_Train_pos_Tensor:  torch.Size([10000])\n",
      "Size of X_train:  torch.Size([52000, 2048])\n",
      "Size of Y_train:  torch.Size([52000])\n",
      "Size of x_Train_neg_Tensor:  torch.Size([18056, 2048])\n",
      "Size of y_Train_neg_Tensor:  torch.Size([18056])\n",
      "Size of x_Train_neg_Tensor:  torch.Size([5944, 2048])\n",
      "Size of y_Train_neg_Tensor:  torch.Size([5944])\n",
      "Size of X_train:  torch.Size([24000, 2048])\n",
      "Size of Y_train:  torch.Size([24000])\n"
     ]
    }
   ],
   "source": [
    "res_Train_neg_path = r\"/Users/erdemsevinc/Desktop/python/WEEK 11/LSIFIR/Classification/Train/neg\"\n",
    "res_num_Train_neg_img = 43390\n",
    "res_Train_neg_array = read_images(res_Train_neg_path, res_num_Train_neg_img)\n",
    "\n",
    "x_res_Train_neg_Tensor = torch.from_numpy(res_Train_neg_array[:42000,:])\n",
    "print(\"Size of x_Train_neg_Tensor: \", x_res_Train_neg_Tensor.size())\n",
    "\n",
    "# I specify negative images as zero.\n",
    "y_res_Train_neg_Tensor = torch.zeros(42000, dtype = torch.long)\n",
    "print(\"Size of y_Train_neg_Tensor: \", y_res_Train_neg_Tensor.size())\n",
    "\n",
    "res_Train_pos_path = r\"/Users/erdemsevinc/Desktop/python/WEEK 11/LSIFIR/Classification/Train/pos\"\n",
    "res_num_Train_pos_img = 10208\n",
    "res_Train_pos_array = read_images(res_Train_pos_path, res_num_Train_pos_img)\n",
    "\n",
    "x_res_Train_pos_Tensor = torch.from_numpy(res_Train_pos_array[:10000,:])\n",
    "print(\"Size of x_Train_pos_Tensor: \", x_res_Train_pos_Tensor.size())\n",
    "\n",
    "# I specify negative images as one.\n",
    "y_res_Train_pos_Tensor = torch.ones(10000, dtype = torch.long)\n",
    "print(\"Size of y_Train_pos_Tensor: \", y_res_Train_pos_Tensor.size())\n",
    "\n",
    "X_res_train = torch.cat((x_res_Train_neg_Tensor, x_res_Train_pos_Tensor),0)\n",
    "Y_res_train = torch.cat((y_res_Train_neg_Tensor, y_res_Train_pos_Tensor),0)\n",
    "\n",
    "print(\"Size of X_train: \",X_res_train.size())\n",
    "print(\"Size of Y_train: \",Y_res_train.size()) \n",
    "\n",
    "res_Test_neg_path = r\"/Users/erdemsevinc/Desktop/python/WEEK 11/LSIFIR/Classification/Test/neg\"\n",
    "res_num_Test_neg_img = 22050\n",
    "res_Test_neg_array = read_images(res_Test_neg_path, res_num_Test_neg_img)\n",
    "\n",
    "x_res_Test_neg_Tensor = torch.from_numpy(res_Test_neg_array[:18056,:])\n",
    "print(\"Size of x_Train_neg_Tensor: \", x_res_Test_neg_Tensor.size())\n",
    "\n",
    "# I specify negative images as zero.\n",
    "y_res_Test_neg_Tensor = torch.zeros(18056, dtype = torch.long)\n",
    "print(\"Size of y_Train_neg_Tensor: \", y_res_Test_neg_Tensor.size())\n",
    "\n",
    "res_Test_pos_path = r\"/Users/erdemsevinc/Desktop/python/WEEK 11/LSIFIR/Classification/Test/pos\"\n",
    "res_num_Test_pos_img = 5944\n",
    "res_Test_pos_array = read_images(res_Test_pos_path, res_num_Test_pos_img)\n",
    "\n",
    "x_res_Test_pos_Tensor = torch.from_numpy(res_Test_pos_array)\n",
    "print(\"Size of x_Train_neg_Tensor: \", x_res_Test_pos_Tensor.size())\n",
    "\n",
    "# I specify negative images as one.\n",
    "y_res_Test_pos_Tensor = torch.ones(res_num_Test_pos_img, dtype = torch.long)\n",
    "print(\"Size of y_Train_neg_Tensor: \", y_res_Test_pos_Tensor.size())\n",
    "\n",
    "X_res_test = torch.cat((x_res_Test_neg_Tensor, x_res_Test_pos_Tensor),0)\n",
    "Y_res_test = torch.cat((y_res_Test_neg_Tensor, y_res_Test_pos_Tensor),0)\n",
    "\n",
    "print(\"Size of X_train: \",X_res_test.size())\n",
    "print(\"Size of Y_train: \",Y_res_test.size()) \n",
    "\n",
    "res_batch_size = 2000\n",
    "\n",
    "# Last prepare data\n",
    "res_train = torch.utils.data.TensorDataset(X_res_train, Y_res_train)\n",
    "res_trainloader = torch.utils.data.DataLoader(res_train, batch_size = res_batch_size, shuffle = True)\n",
    "\n",
    "res_test = torch.utils.data.TensorDataset(X_res_test, Y_res_test)\n",
    "res_testloader = torch.utils.data.DataLoader(res_test, batch_size = res_batch_size, shuffle = False)"
   ]
  },
  {
   "cell_type": "markdown",
   "metadata": {},
   "source": [
    "# VISUALIZE"
   ]
  },
  {
   "cell_type": "code",
   "execution_count": 37,
   "metadata": {},
   "outputs": [
    {
     "data": {
      "text/plain": [
       "(-0.5, 31.5, 63.5, -0.5)"
      ]
     },
     "execution_count": 37,
     "metadata": {},
     "output_type": "execute_result"
    },
    {
     "data": {
      "image/png": "[encoded data removed]",
      "text/plain": [
       "<Figure size 640x480 with 1 Axes>"
      ]
     },
     "metadata": {},
     "output_type": "display_data"
    }
   ],
   "source": [
    "plt.imshow(X_res_train[45001,:].reshape(64,32),cmap = \"gray\")\n",
    "plt.axis(\"off\")\n"
   ]
  },
  {
   "cell_type": "markdown",
   "metadata": {},
   "source": [
    "# HYPER PARAMETERS"
   ]
  },
  {
   "cell_type": "code",
   "execution_count": 38,
   "metadata": {},
   "outputs": [],
   "source": [
    "res_numberofepochs = 10\n",
    "res_numberofclasses = 2\n",
    "res_learning_rate = 0.0001"
   ]
  },
  {
   "cell_type": "markdown",
   "metadata": {},
   "source": [
    "# BLOCKS"
   ]
  },
  {
   "cell_type": "code",
   "execution_count": 44,
   "metadata": {},
   "outputs": [],
   "source": [
    "def conv3x3(in_planes, out_planes, stride = 1):\n",
    "    return nn.Conv2d(in_planes, out_planes, kernel_size = 3, stride = stride, padding = 1, bias = False)\n",
    "\n",
    "def conv1x1(in_planes, out_planes, stride = 1):\n",
    "    return nn.Conv2d(in_planes, out_planes, kernel_size = 1, stride = stride, bias = False)\n",
    "\n",
    "class ResNetBasicBlock(nn.Module):\n",
    "    \n",
    "    expansion = 1\n",
    "    \n",
    "    def __init__(self, inplanes, planes, stride = 1, downsample = None):\n",
    "        super(ResNetBasicBlock,self).__init__()\n",
    "        self.conv1 = conv3x3(inplanes, planes, stride)\n",
    "        self.bn1 = nn.BatchNorm2d(planes)\n",
    "        self.relu = nn.ReLU(inplace = True)\n",
    "        self.drop = nn.Dropout(0.9)\n",
    "        self.conv2 = conv3x3(planes, planes)\n",
    "        self.bn2 = nn.BatchNorm2d(planes)\n",
    "        self.downsample = downsample\n",
    "        self.stride = stride\n",
    "        \n",
    "    def forward(self, x):\n",
    "        identity = x\n",
    "        \n",
    "        out = self.conv1(x)\n",
    "        out = self.bn1(out)\n",
    "        out = self.relu(out)\n",
    "        out = self.drop(out)\n",
    "        out = self.conv2(out)\n",
    "        out = self.bn2(out)\n",
    "        out = self.drop(out)\n",
    "        \n",
    "        if self.downsample is not None:\n",
    "            identity = self.downsample(x)\n",
    "        out = out + identity\n",
    "        out = self.relu(out)\n",
    "        return out\n",
    "    \n",
    "class ResNet(nn.Module):\n",
    "    \n",
    "    def __init__(self, block, layers, num_classes = res_numberofclasses):\n",
    "        super(ResNet, self).__init__()\n",
    "        self.inplanes = 64\n",
    "        self.conv1 = nn.Conv2d(1, 64, kernel_size = 7, stride = 2, padding = 3, bias = False)\n",
    "        self.bn1 = nn.BatchNorm2d(64)\n",
    "        self.relu = nn.ReLU(inplace = True)\n",
    "        self.maxpool = nn.MaxPool2d(kernel_size = 3, stride = 2, padding = 1)\n",
    "        self.layer1 = self._make_layer(block, 64, layers[0], stride = 1)\n",
    "        self.layer2 = self._make_layer(block, 128, layers[1], stride = 2)\n",
    "        self.layer3 = self._make_layer(block, 256, layers[2], stride = 2)\n",
    "        \n",
    "        self.avgpool = nn.AdaptiveAvgPool2d((1,1))\n",
    "        self.fc = nn.Linear(256*block.expansion, res_numberofclasses)\n",
    "        \n",
    "        for m in self.modules():\n",
    "            if isinstance(m, nn.Conv2d):\n",
    "                nn.init.kaiming_normal_(m.weight, mode = \"fan_out\", nonlinearity = \"relu\")\n",
    "            elif isinstance(m, nn.BatchNorm2d):\n",
    "                nn.init.constant_(m.weight, 1)\n",
    "                nn.init.constant_(m.bias, 0)\n",
    "                \n",
    "    \n",
    "    def _make_layer(self, block, planes, blocks, stride = 1):\n",
    "        downsample = None\n",
    "        \n",
    "        if stride != 1 or self.inplanes != planes*block.expansion:\n",
    "            downsample = nn.Sequential(conv1x1(self.inplanes, planes * block.expansion, stride),\n",
    "                                      nn.BatchNorm2d(planes*block.expansion))\n",
    "            \n",
    "        layers = []\n",
    "        layers.append(block(self.inplanes, planes, stride, downsample))\n",
    "        self.inplanes = planes*block.expansion\n",
    "        for _ in range(1,blocks):\n",
    "            layers.append(block(self.inplanes, planes))\n",
    "            \n",
    "        return nn.Sequential(*layers)\n",
    "    \n",
    "    def forward(self, x):\n",
    "        x = self.conv1(x)\n",
    "        x = self.bn1(x)\n",
    "        x = self.relu(x)\n",
    "        x = self.maxpool(x)\n",
    "        x = self.layer1(x)\n",
    "        x = self.layer2(x)\n",
    "        x = self.layer3(x)\n",
    "        x = self.avgpool(x)\n",
    "        x = x.view(x.size(0), -1)\n",
    "        x = self.fc(x)\n",
    "        \n",
    "        return x\n",
    "    \n",
    "res_model = ResNet(ResNetBasicBlock, [2,2,2])\n",
    "\n",
    "# For GPU\n",
    "# res_model = ResNet(ResNetBasicBlock, [2,2,2]).to(device)\n",
    "\n",
    "res_criterion = nn.CrossEntropyLoss()\n",
    "\n",
    "res_optimizer = torch.optim.Adam(res_model.parameters(), lr = res_learning_rate)\n",
    "\n"
   ]
  },
  {
   "cell_type": "markdown",
   "metadata": {},
   "source": [
    "# OPTIMIZER"
   ]
  },
  {
   "cell_type": "code",
   "execution_count": 45,
   "metadata": {},
   "outputs": [],
   "source": [
    "res_criterion = nn.CrossEntropyLoss()\n",
    "\n",
    "res_optimizer = torch.optim.Adam(res_model.parameters(), lr = res_learning_rate)"
   ]
  },
  {
   "cell_type": "markdown",
   "metadata": {},
   "source": [
    "# TRAINING MODEL"
   ]
  },
  {
   "cell_type": "code",
   "execution_count": 46,
   "metadata": {},
   "outputs": [
    {
     "name": "stdout",
     "output_type": "stream",
     "text": [
      "Epoch: 0 | Accuracy Train: 79.38076923076923 | Accuracy Test: 74.20416666666667 | Loss: 0.5235095024108887 \n",
      "Epoch: 1 | Accuracy Train: 79.74423076923077 | Accuracy Test: 73.6125 | Loss: 0.45060956478118896 \n"
     ]
    },
    {
     "ename": "KeyboardInterrupt",
     "evalue": "",
     "output_type": "error",
     "traceback": [
      "\u001b[0;31m---------------------------------------------------------------------------\u001b[0m",
      "\u001b[0;31mKeyboardInterrupt\u001b[0m                         Traceback (most recent call last)",
      "Cell \u001b[0;32mIn[46], line 27\u001b[0m\n\u001b[1;32m     25\u001b[0m \u001b[38;5;66;03m# backward and optimization\u001b[39;00m\n\u001b[1;32m     26\u001b[0m res_optimizer\u001b[38;5;241m.\u001b[39mzero_grad()\n\u001b[0;32m---> 27\u001b[0m loss\u001b[38;5;241m.\u001b[39mbackward()\n\u001b[1;32m     28\u001b[0m res_optimizer\u001b[38;5;241m.\u001b[39mstep()\n\u001b[1;32m     29\u001b[0m \u001b[38;5;250m\u001b[39m\u001b[38;5;124;03m\"\"\"\u001b[39;00m\n\u001b[1;32m     30\u001b[0m \u001b[38;5;124;03mif i % 2 == 0:\u001b[39;00m\n\u001b[1;32m     31\u001b[0m \u001b[38;5;124;03m    print(\"epoch: {} {}\\{}\".format(epoch, i, res_total_step))\u001b[39;00m\n\u001b[1;32m     32\u001b[0m \u001b[38;5;124;03m\"\"\"\u001b[39;00m \n",
      "File \u001b[0;32m~/anaconda3/lib/python3.11/site-packages/torch/_tensor.py:522\u001b[0m, in \u001b[0;36mTensor.backward\u001b[0;34m(self, gradient, retain_graph, create_graph, inputs)\u001b[0m\n\u001b[1;32m    512\u001b[0m \u001b[38;5;28;01mif\u001b[39;00m has_torch_function_unary(\u001b[38;5;28mself\u001b[39m):\n\u001b[1;32m    513\u001b[0m     \u001b[38;5;28;01mreturn\u001b[39;00m handle_torch_function(\n\u001b[1;32m    514\u001b[0m         Tensor\u001b[38;5;241m.\u001b[39mbackward,\n\u001b[1;32m    515\u001b[0m         (\u001b[38;5;28mself\u001b[39m,),\n\u001b[0;32m   (...)\u001b[0m\n\u001b[1;32m    520\u001b[0m         inputs\u001b[38;5;241m=\u001b[39minputs,\n\u001b[1;32m    521\u001b[0m     )\n\u001b[0;32m--> 522\u001b[0m torch\u001b[38;5;241m.\u001b[39mautograd\u001b[38;5;241m.\u001b[39mbackward(\n\u001b[1;32m    523\u001b[0m     \u001b[38;5;28mself\u001b[39m, gradient, retain_graph, create_graph, inputs\u001b[38;5;241m=\u001b[39minputs\n\u001b[1;32m    524\u001b[0m )\n",
      "File \u001b[0;32m~/anaconda3/lib/python3.11/site-packages/torch/autograd/__init__.py:266\u001b[0m, in \u001b[0;36mbackward\u001b[0;34m(tensors, grad_tensors, retain_graph, create_graph, grad_variables, inputs)\u001b[0m\n\u001b[1;32m    261\u001b[0m     retain_graph \u001b[38;5;241m=\u001b[39m create_graph\n\u001b[1;32m    263\u001b[0m \u001b[38;5;66;03m# The reason we repeat the same comment below is that\u001b[39;00m\n\u001b[1;32m    264\u001b[0m \u001b[38;5;66;03m# some Python versions print out the first line of a multi-line function\u001b[39;00m\n\u001b[1;32m    265\u001b[0m \u001b[38;5;66;03m# calls in the traceback and some print out the last line\u001b[39;00m\n\u001b[0;32m--> 266\u001b[0m Variable\u001b[38;5;241m.\u001b[39m_execution_engine\u001b[38;5;241m.\u001b[39mrun_backward(  \u001b[38;5;66;03m# Calls into the C++ engine to run the backward pass\u001b[39;00m\n\u001b[1;32m    267\u001b[0m     tensors,\n\u001b[1;32m    268\u001b[0m     grad_tensors_,\n\u001b[1;32m    269\u001b[0m     retain_graph,\n\u001b[1;32m    270\u001b[0m     create_graph,\n\u001b[1;32m    271\u001b[0m     inputs,\n\u001b[1;32m    272\u001b[0m     allow_unreachable\u001b[38;5;241m=\u001b[39m\u001b[38;5;28;01mTrue\u001b[39;00m,\n\u001b[1;32m    273\u001b[0m     accumulate_grad\u001b[38;5;241m=\u001b[39m\u001b[38;5;28;01mTrue\u001b[39;00m,\n\u001b[1;32m    274\u001b[0m )\n",
      "\u001b[0;31mKeyboardInterrupt\u001b[0m: "
     ]
    }
   ],
   "source": [
    "res_start = time.time() # start of time\n",
    "res_train_acc = []\n",
    "res_test_acc = []\n",
    "res_loss_list = []\n",
    "\n",
    "use_gpu = False # If you want to use GPU, Change True\n",
    "\n",
    "res_total_step = len(res_trainloader)\n",
    "\n",
    "for epoch in range(res_numberofepochs):\n",
    "    for i, (images, labels) in enumerate(res_trainloader):\n",
    "        \n",
    "        images = images.view(res_batch_size, 1, 64, 32)\n",
    "        images = images.float()\n",
    "        \n",
    "        # GPU\n",
    "        if use_gpu:\n",
    "            if torch.cuda.is_available():\n",
    "                images, labels = images.to(device), labels.to(device)\n",
    "                \n",
    "        outputs = res_model(images)\n",
    "        \n",
    "        loss = res_criterion(outputs, labels)\n",
    "        \n",
    "        # backward and optimization\n",
    "        res_optimizer.zero_grad()\n",
    "        loss.backward()\n",
    "        res_optimizer.step()\n",
    "        \"\"\"\n",
    "        if i % 2 == 0:\n",
    "            print(\"epoch: {} {}\\{}\".format(epoch, i, res_total_step))\n",
    "        \"\"\" \n",
    "    # train\n",
    "    res_train_correct = 0\n",
    "    res_train_total = 0\n",
    "    with torch.no_grad():\n",
    "        for data in res_trainloader:\n",
    "            images, labels = data\n",
    "            images = images.view(res_batch_size, 1, 64, 32)\n",
    "            images = images.float()\n",
    "            \n",
    "            # GPU\n",
    "            if use_gpu:\n",
    "                if torch.cuda.is_available():\n",
    "                    images, labels = images.to(device), labels.to(device)\n",
    "                    \n",
    "            outputs = res_model(images)\n",
    "            _, predicted = torch.max(outputs.data, 1)\n",
    "            res_train_total += labels.size(0)\n",
    "            res_train_correct += (predicted == labels).sum().item()\n",
    "            \n",
    "    Accuracy_Train = 100* res_train_correct/res_train_total\n",
    "    #print(\"Accuracy Train: \"(Accuracy_Train)\n",
    "    res_train_acc.append(Accuracy_Train)\n",
    "    \n",
    "    # test\n",
    "    res_test_correct = 0\n",
    "    res_test_total = 0\n",
    "    with torch.no_grad():\n",
    "        for data in res_testloader:\n",
    "            images, labels = data\n",
    "            images = images.view(res_batch_size, 1, 64, 32)\n",
    "            images = images.float()\n",
    "            \n",
    "            # GPU\n",
    "            if use_gpu:\n",
    "                if torch.cuda.is_available():\n",
    "                    images, labels = images.to(device), labels.to(device)\n",
    "                    \n",
    "            outputs = res_model(images)\n",
    "            _, predicted = torch.max(outputs.data, 1)\n",
    "            res_test_total += labels.size(0)\n",
    "            res_test_correct += (predicted == labels).sum().item()\n",
    "          \n",
    "    Accuracy_Test = 100* res_test_correct/res_test_total\n",
    "    #print(\"Accuracy Test: \"(Accuracy_Test)\n",
    "    res_test_acc.append(Accuracy_Test)\n",
    "    \n",
    "    res_loss_list.append(loss.item())\n",
    "          \n",
    "    print(\"Epoch: {} | Accuracy Train: {} | Accuracy Test: {} | Loss: {} \".format(epoch, Accuracy_Train, Accuracy_Test, loss.item()))\n",
    "    \n",
    "print(\"Training is Done\")\n",
    "\n",
    "# time of end\n",
    "res_end = time.time()\n",
    "res_process_time = (res_end - res_start)/60\n",
    "print(\"Process Time: \",res_process_time)\n",
    "\n",
    "        "
   ]
  },
  {
   "cell_type": "markdown",
   "metadata": {},
   "source": [
    "# VISUALIZE"
   ]
  },
  {
   "cell_type": "code",
   "execution_count": 47,
   "metadata": {},
   "outputs": [
    {
     "ename": "ValueError",
     "evalue": "x and y must have same first dimension, but have shapes (10,) and (2,)",
     "output_type": "error",
     "traceback": [
      "\u001b[0;31m---------------------------------------------------------------------------\u001b[0m",
      "\u001b[0;31mValueError\u001b[0m                                Traceback (most recent call last)",
      "Cell \u001b[0;32mIn[47], line 5\u001b[0m\n\u001b[1;32m      2\u001b[0m \u001b[38;5;28;01mfor\u001b[39;00m i \u001b[38;5;129;01min\u001b[39;00m \u001b[38;5;28mrange\u001b[39m(res_numberofepochs):\n\u001b[1;32m      3\u001b[0m     res_epochs\u001b[38;5;241m.\u001b[39mappend(i)\n\u001b[0;32m----> 5\u001b[0m plt\u001b[38;5;241m.\u001b[39mplot(res_epochs, res_train_acc, label\u001b[38;5;241m=\u001b[39m\u001b[38;5;124m\"\u001b[39m\u001b[38;5;124mTrain\u001b[39m\u001b[38;5;124m\"\u001b[39m)\n\u001b[1;32m      6\u001b[0m plt\u001b[38;5;241m.\u001b[39mplot(res_epochs, res_test_acc, label\u001b[38;5;241m=\u001b[39m\u001b[38;5;124m\"\u001b[39m\u001b[38;5;124mTest\u001b[39m\u001b[38;5;124m\"\u001b[39m)\n\u001b[1;32m      7\u001b[0m plt\u001b[38;5;241m.\u001b[39mtitle(\u001b[38;5;124m\"\u001b[39m\u001b[38;5;124mTrain-Test Accuracy\u001b[39m\u001b[38;5;124m\"\u001b[39m)\n",
      "File \u001b[0;32m~/anaconda3/lib/python3.11/site-packages/matplotlib/pyplot.py:2812\u001b[0m, in \u001b[0;36mplot\u001b[0;34m(scalex, scaley, data, *args, **kwargs)\u001b[0m\n\u001b[1;32m   2810\u001b[0m \u001b[38;5;129m@_copy_docstring_and_deprecators\u001b[39m(Axes\u001b[38;5;241m.\u001b[39mplot)\n\u001b[1;32m   2811\u001b[0m \u001b[38;5;28;01mdef\u001b[39;00m \u001b[38;5;21mplot\u001b[39m(\u001b[38;5;241m*\u001b[39margs, scalex\u001b[38;5;241m=\u001b[39m\u001b[38;5;28;01mTrue\u001b[39;00m, scaley\u001b[38;5;241m=\u001b[39m\u001b[38;5;28;01mTrue\u001b[39;00m, data\u001b[38;5;241m=\u001b[39m\u001b[38;5;28;01mNone\u001b[39;00m, \u001b[38;5;241m*\u001b[39m\u001b[38;5;241m*\u001b[39mkwargs):\n\u001b[0;32m-> 2812\u001b[0m     \u001b[38;5;28;01mreturn\u001b[39;00m gca()\u001b[38;5;241m.\u001b[39mplot(\n\u001b[1;32m   2813\u001b[0m         \u001b[38;5;241m*\u001b[39margs, scalex\u001b[38;5;241m=\u001b[39mscalex, scaley\u001b[38;5;241m=\u001b[39mscaley,\n\u001b[1;32m   2814\u001b[0m         \u001b[38;5;241m*\u001b[39m\u001b[38;5;241m*\u001b[39m({\u001b[38;5;124m\"\u001b[39m\u001b[38;5;124mdata\u001b[39m\u001b[38;5;124m\"\u001b[39m: data} \u001b[38;5;28;01mif\u001b[39;00m data \u001b[38;5;129;01mis\u001b[39;00m \u001b[38;5;129;01mnot\u001b[39;00m \u001b[38;5;28;01mNone\u001b[39;00m \u001b[38;5;28;01melse\u001b[39;00m {}), \u001b[38;5;241m*\u001b[39m\u001b[38;5;241m*\u001b[39mkwargs)\n",
      "File \u001b[0;32m~/anaconda3/lib/python3.11/site-packages/matplotlib/axes/_axes.py:1688\u001b[0m, in \u001b[0;36mAxes.plot\u001b[0;34m(self, scalex, scaley, data, *args, **kwargs)\u001b[0m\n\u001b[1;32m   1445\u001b[0m \u001b[38;5;250m\u001b[39m\u001b[38;5;124;03m\"\"\"\u001b[39;00m\n\u001b[1;32m   1446\u001b[0m \u001b[38;5;124;03mPlot y versus x as lines and/or markers.\u001b[39;00m\n\u001b[1;32m   1447\u001b[0m \n\u001b[0;32m   (...)\u001b[0m\n\u001b[1;32m   1685\u001b[0m \u001b[38;5;124;03m(``'green'``) or hex strings (``'#008000'``).\u001b[39;00m\n\u001b[1;32m   1686\u001b[0m \u001b[38;5;124;03m\"\"\"\u001b[39;00m\n\u001b[1;32m   1687\u001b[0m kwargs \u001b[38;5;241m=\u001b[39m cbook\u001b[38;5;241m.\u001b[39mnormalize_kwargs(kwargs, mlines\u001b[38;5;241m.\u001b[39mLine2D)\n\u001b[0;32m-> 1688\u001b[0m lines \u001b[38;5;241m=\u001b[39m [\u001b[38;5;241m*\u001b[39m\u001b[38;5;28mself\u001b[39m\u001b[38;5;241m.\u001b[39m_get_lines(\u001b[38;5;241m*\u001b[39margs, data\u001b[38;5;241m=\u001b[39mdata, \u001b[38;5;241m*\u001b[39m\u001b[38;5;241m*\u001b[39mkwargs)]\n\u001b[1;32m   1689\u001b[0m \u001b[38;5;28;01mfor\u001b[39;00m line \u001b[38;5;129;01min\u001b[39;00m lines:\n\u001b[1;32m   1690\u001b[0m     \u001b[38;5;28mself\u001b[39m\u001b[38;5;241m.\u001b[39madd_line(line)\n",
      "File \u001b[0;32m~/anaconda3/lib/python3.11/site-packages/matplotlib/axes/_base.py:311\u001b[0m, in \u001b[0;36m_process_plot_var_args.__call__\u001b[0;34m(self, data, *args, **kwargs)\u001b[0m\n\u001b[1;32m    309\u001b[0m     this \u001b[38;5;241m+\u001b[39m\u001b[38;5;241m=\u001b[39m args[\u001b[38;5;241m0\u001b[39m],\n\u001b[1;32m    310\u001b[0m     args \u001b[38;5;241m=\u001b[39m args[\u001b[38;5;241m1\u001b[39m:]\n\u001b[0;32m--> 311\u001b[0m \u001b[38;5;28;01myield from\u001b[39;00m \u001b[38;5;28mself\u001b[39m\u001b[38;5;241m.\u001b[39m_plot_args(\n\u001b[1;32m    312\u001b[0m     this, kwargs, ambiguous_fmt_datakey\u001b[38;5;241m=\u001b[39mambiguous_fmt_datakey)\n",
      "File \u001b[0;32m~/anaconda3/lib/python3.11/site-packages/matplotlib/axes/_base.py:504\u001b[0m, in \u001b[0;36m_process_plot_var_args._plot_args\u001b[0;34m(self, tup, kwargs, return_kwargs, ambiguous_fmt_datakey)\u001b[0m\n\u001b[1;32m    501\u001b[0m     \u001b[38;5;28mself\u001b[39m\u001b[38;5;241m.\u001b[39maxes\u001b[38;5;241m.\u001b[39myaxis\u001b[38;5;241m.\u001b[39mupdate_units(y)\n\u001b[1;32m    503\u001b[0m \u001b[38;5;28;01mif\u001b[39;00m x\u001b[38;5;241m.\u001b[39mshape[\u001b[38;5;241m0\u001b[39m] \u001b[38;5;241m!=\u001b[39m y\u001b[38;5;241m.\u001b[39mshape[\u001b[38;5;241m0\u001b[39m]:\n\u001b[0;32m--> 504\u001b[0m     \u001b[38;5;28;01mraise\u001b[39;00m \u001b[38;5;167;01mValueError\u001b[39;00m(\u001b[38;5;124mf\u001b[39m\u001b[38;5;124m\"\u001b[39m\u001b[38;5;124mx and y must have same first dimension, but \u001b[39m\u001b[38;5;124m\"\u001b[39m\n\u001b[1;32m    505\u001b[0m                      \u001b[38;5;124mf\u001b[39m\u001b[38;5;124m\"\u001b[39m\u001b[38;5;124mhave shapes \u001b[39m\u001b[38;5;132;01m{\u001b[39;00mx\u001b[38;5;241m.\u001b[39mshape\u001b[38;5;132;01m}\u001b[39;00m\u001b[38;5;124m and \u001b[39m\u001b[38;5;132;01m{\u001b[39;00my\u001b[38;5;241m.\u001b[39mshape\u001b[38;5;132;01m}\u001b[39;00m\u001b[38;5;124m\"\u001b[39m)\n\u001b[1;32m    506\u001b[0m \u001b[38;5;28;01mif\u001b[39;00m x\u001b[38;5;241m.\u001b[39mndim \u001b[38;5;241m>\u001b[39m \u001b[38;5;241m2\u001b[39m \u001b[38;5;129;01mor\u001b[39;00m y\u001b[38;5;241m.\u001b[39mndim \u001b[38;5;241m>\u001b[39m \u001b[38;5;241m2\u001b[39m:\n\u001b[1;32m    507\u001b[0m     \u001b[38;5;28;01mraise\u001b[39;00m \u001b[38;5;167;01mValueError\u001b[39;00m(\u001b[38;5;124mf\u001b[39m\u001b[38;5;124m\"\u001b[39m\u001b[38;5;124mx and y can be no greater than 2D, but have \u001b[39m\u001b[38;5;124m\"\u001b[39m\n\u001b[1;32m    508\u001b[0m                      \u001b[38;5;124mf\u001b[39m\u001b[38;5;124m\"\u001b[39m\u001b[38;5;124mshapes \u001b[39m\u001b[38;5;132;01m{\u001b[39;00mx\u001b[38;5;241m.\u001b[39mshape\u001b[38;5;132;01m}\u001b[39;00m\u001b[38;5;124m and \u001b[39m\u001b[38;5;132;01m{\u001b[39;00my\u001b[38;5;241m.\u001b[39mshape\u001b[38;5;132;01m}\u001b[39;00m\u001b[38;5;124m\"\u001b[39m)\n",
      "\u001b[0;31mValueError\u001b[0m: x and y must have same first dimension, but have shapes (10,) and (2,)"
     ]
    },
    {
     "data": {
      "image/png": "[encoded data removed]",
      "text/plain": [
       "<Figure size 640x480 with 1 Axes>"
      ]
     },
     "metadata": {},
     "output_type": "display_data"
    }
   ],
   "source": [
    "res_epochs = []\n",
    "for i in range(res_numberofepochs):\n",
    "    res_epochs.append(i)\n",
    "\n",
    "plt.plot(res_epochs, res_train_acc, label=\"Train\")\n",
    "plt.plot(res_epochs, res_test_acc, label=\"Test\")\n",
    "plt.title(\"Train-Test Accuracy\")\n",
    "plt.xlabel(\"Number of Epochs\")\n",
    "plt.xlabel(\"Accuracy\")\n",
    "plt.legend()\n",
    "plt.show()"
   ]
  },
  {
   "cell_type": "code",
   "execution_count": null,
   "metadata": {},
   "outputs": [],
   "source": [
    "plt.plot(res_loss_list)\n",
    "plt.title(\"Loss of ResNet Model\")\n",
    "plt.xlabel(\"Index of loss_list\")\n",
    "plt.ylabel(\"Loss\")\n",
    "plt.show()"
   ]
  }
 ],
 "metadata": {
  "kernelspec": {
   "display_name": "base",
   "language": "python",
   "name": "python3"
  },
  "language_info": {
   "codemirror_mode": {
    "name": "ipython",
    "version": 3
   },
   "file_extension": ".py",
   "mimetype": "text/x-python",
   "name": "python",
   "nbconvert_exporter": "python",
   "pygments_lexer": "ipython3",
   "version": "3.11.5"
  }
 },
 "nbformat": 4,
 "nbformat_minor": 2
}
